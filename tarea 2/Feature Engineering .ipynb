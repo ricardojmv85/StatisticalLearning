{
 "cells": [
  {
   "cell_type": "code",
   "execution_count": 4,
   "metadata": {},
   "outputs": [],
   "source": [
    "from matplotlib           import pyplot as plt\n",
    "from IPython.display      import Image\n",
    "import matplotlib.pyplot  as plt\n",
    "import tensorflow         as tf\n",
    "import numpy              as np\n",
    "import pandas             as pd"
   ]
  },
  {
   "cell_type": "code",
   "execution_count": 5,
   "metadata": {},
   "outputs": [
    {
     "name": "stdout",
     "output_type": "stream",
     "text": [
      "WARNING:tensorflow:From C:\\Users\\Ricar\\anaconda3\\lib\\site-packages\\tensorflow\\python\\compat\\v2_compat.py:96: disable_resource_variables (from tensorflow.python.ops.variable_scope) is deprecated and will be removed in a future version.\n",
      "Instructions for updating:\n",
      "non-resource variables are not supported in the long term\n",
      "Enabled compatitility to tf1.x\n"
     ]
    }
   ],
   "source": [
    "if tf.__version__.startswith(\"2.\"):\n",
    "    import tensorflow.compat.v1 as tf\n",
    "    tf.compat.v1.disable_v2_behavior()\n",
    "    tf.compat.v1.disable_eager_execution()\n",
    "    print(\"Enabled compatitility to tf1.x\")"
   ]
  },
  {
   "cell_type": "code",
   "execution_count": 6,
   "metadata": {},
   "outputs": [],
   "source": [
    "data = pd.read_csv('https://raw.githubusercontent.com/CSSEGISandData/COVID-19/master/csse_covid_19_data/csse_covid_19_time_series/time_series_covid19_confirmed_global.csv')"
   ]
  },
  {
   "cell_type": "markdown",
   "metadata": {},
   "source": [
    "## Transforming data"
   ]
  },
  {
   "cell_type": "code",
   "execution_count": 18,
   "metadata": {},
   "outputs": [
    {
     "data": {
      "text/html": [
       "<div>\n",
       "<style scoped>\n",
       "    .dataframe tbody tr th:only-of-type {\n",
       "        vertical-align: middle;\n",
       "    }\n",
       "\n",
       "    .dataframe tbody tr th {\n",
       "        vertical-align: top;\n",
       "    }\n",
       "\n",
       "    .dataframe thead th {\n",
       "        text-align: right;\n",
       "    }\n",
       "</style>\n",
       "<table border=\"1\" class=\"dataframe\">\n",
       "  <thead>\n",
       "    <tr style=\"text-align: right;\">\n",
       "      <th></th>\n",
       "      <th>Province/State</th>\n",
       "      <th>Country/Region</th>\n",
       "      <th>Lat</th>\n",
       "      <th>Long</th>\n",
       "      <th>1/22/20</th>\n",
       "      <th>1/23/20</th>\n",
       "      <th>1/24/20</th>\n",
       "      <th>1/25/20</th>\n",
       "      <th>1/26/20</th>\n",
       "      <th>1/27/20</th>\n",
       "      <th>...</th>\n",
       "      <th>5/22/21</th>\n",
       "      <th>5/23/21</th>\n",
       "      <th>5/24/21</th>\n",
       "      <th>5/25/21</th>\n",
       "      <th>5/26/21</th>\n",
       "      <th>5/27/21</th>\n",
       "      <th>5/28/21</th>\n",
       "      <th>5/29/21</th>\n",
       "      <th>5/30/21</th>\n",
       "      <th>5/31/21</th>\n",
       "    </tr>\n",
       "  </thead>\n",
       "  <tbody>\n",
       "    <tr>\n",
       "      <th>138</th>\n",
       "      <td>NaN</td>\n",
       "      <td>Guatemala</td>\n",
       "      <td>15.7835</td>\n",
       "      <td>-90.2308</td>\n",
       "      <td>0</td>\n",
       "      <td>0</td>\n",
       "      <td>0</td>\n",
       "      <td>0</td>\n",
       "      <td>0</td>\n",
       "      <td>0</td>\n",
       "      <td>...</td>\n",
       "      <td>247106</td>\n",
       "      <td>247454</td>\n",
       "      <td>247644</td>\n",
       "      <td>248824</td>\n",
       "      <td>250296</td>\n",
       "      <td>251336</td>\n",
       "      <td>252929</td>\n",
       "      <td>253837</td>\n",
       "      <td>254225</td>\n",
       "      <td>254417</td>\n",
       "    </tr>\n",
       "  </tbody>\n",
       "</table>\n",
       "<p>1 rows × 500 columns</p>\n",
       "</div>"
      ],
      "text/plain": [
       "    Province/State Country/Region      Lat     Long  1/22/20  1/23/20  \\\n",
       "138            NaN      Guatemala  15.7835 -90.2308        0        0   \n",
       "\n",
       "     1/24/20  1/25/20  1/26/20  1/27/20  ...  5/22/21  5/23/21  5/24/21  \\\n",
       "138        0        0        0        0  ...   247106   247454   247644   \n",
       "\n",
       "     5/25/21  5/26/21  5/27/21  5/28/21  5/29/21  5/30/21  5/31/21  \n",
       "138   248824   250296   251336   252929   253837   254225   254417  \n",
       "\n",
       "[1 rows x 500 columns]"
      ]
     },
     "execution_count": 18,
     "metadata": {},
     "output_type": "execute_result"
    }
   ],
   "source": [
    "data = data[data['Country/Region'] == 'Guatemala']\n",
    "data"
   ]
  },
  {
   "cell_type": "code",
   "execution_count": 31,
   "metadata": {},
   "outputs": [],
   "source": [
    "feature_names = [\"Province/State\", \"Country/Region\", \"Lat\", \"Long\"]\n",
    "date_names = list(data.columns[4:])"
   ]
  },
  {
   "cell_type": "code",
   "execution_count": 63,
   "metadata": {},
   "outputs": [
    {
     "data": {
      "text/html": [
       "<div>\n",
       "<style scoped>\n",
       "    .dataframe tbody tr th:only-of-type {\n",
       "        vertical-align: middle;\n",
       "    }\n",
       "\n",
       "    .dataframe tbody tr th {\n",
       "        vertical-align: top;\n",
       "    }\n",
       "\n",
       "    .dataframe thead th {\n",
       "        text-align: right;\n",
       "    }\n",
       "</style>\n",
       "<table border=\"1\" class=\"dataframe\">\n",
       "  <thead>\n",
       "    <tr style=\"text-align: right;\">\n",
       "      <th></th>\n",
       "      <th>confirmed</th>\n",
       "      <th>date</th>\n",
       "    </tr>\n",
       "  </thead>\n",
       "  <tbody>\n",
       "    <tr>\n",
       "      <th>52</th>\n",
       "      <td>1</td>\n",
       "      <td>2020-03-14</td>\n",
       "    </tr>\n",
       "    <tr>\n",
       "      <th>53</th>\n",
       "      <td>1</td>\n",
       "      <td>2020-03-15</td>\n",
       "    </tr>\n",
       "    <tr>\n",
       "      <th>54</th>\n",
       "      <td>2</td>\n",
       "      <td>2020-03-16</td>\n",
       "    </tr>\n",
       "    <tr>\n",
       "      <th>55</th>\n",
       "      <td>6</td>\n",
       "      <td>2020-03-17</td>\n",
       "    </tr>\n",
       "    <tr>\n",
       "      <th>56</th>\n",
       "      <td>6</td>\n",
       "      <td>2020-03-18</td>\n",
       "    </tr>\n",
       "    <tr>\n",
       "      <th>...</th>\n",
       "      <td>...</td>\n",
       "      <td>...</td>\n",
       "    </tr>\n",
       "    <tr>\n",
       "      <th>126</th>\n",
       "      <td>4145</td>\n",
       "      <td>2020-05-27</td>\n",
       "    </tr>\n",
       "    <tr>\n",
       "      <th>127</th>\n",
       "      <td>4348</td>\n",
       "      <td>2020-05-28</td>\n",
       "    </tr>\n",
       "    <tr>\n",
       "      <th>128</th>\n",
       "      <td>4607</td>\n",
       "      <td>2020-05-29</td>\n",
       "    </tr>\n",
       "    <tr>\n",
       "      <th>129</th>\n",
       "      <td>4739</td>\n",
       "      <td>2020-05-30</td>\n",
       "    </tr>\n",
       "    <tr>\n",
       "      <th>130</th>\n",
       "      <td>5087</td>\n",
       "      <td>2020-05-31</td>\n",
       "    </tr>\n",
       "  </tbody>\n",
       "</table>\n",
       "<p>79 rows × 2 columns</p>\n",
       "</div>"
      ],
      "text/plain": [
       "     confirmed       date\n",
       "52           1 2020-03-14\n",
       "53           1 2020-03-15\n",
       "54           2 2020-03-16\n",
       "55           6 2020-03-17\n",
       "56           6 2020-03-18\n",
       "..         ...        ...\n",
       "126       4145 2020-05-27\n",
       "127       4348 2020-05-28\n",
       "128       4607 2020-05-29\n",
       "129       4739 2020-05-30\n",
       "130       5087 2020-05-31\n",
       "\n",
       "[79 rows x 2 columns]"
      ]
     },
     "execution_count": 63,
     "metadata": {},
     "output_type": "execute_result"
    }
   ],
   "source": [
    "cleaned_data = data[date_names].T\n",
    "cleaned_data.columns = ['confirmed']\n",
    "cleaned_data['date'] = cleaned_data.index\n",
    "cleaned_data = cleaned_data.reset_index(drop=True)\n",
    "cleaned_data['date'] = pd.to_datetime(cleaned_data[\"date\"], infer_datetime_format = True)\n",
    "cleaned_data = cleaned_data[cleaned_data['confirmed'] > 0]\n",
    "cleaned_data = cleaned_data[cleaned_data['date'] < '2020-06-01']\n",
    "cleaned_data"
   ]
  },
  {
   "cell_type": "markdown",
   "metadata": {},
   "source": [
    "## Data Visualization"
   ]
  },
  {
   "cell_type": "code",
   "execution_count": 64,
   "metadata": {},
   "outputs": [
    {
     "data": {
      "text/plain": [
       "<AxesSubplot:xlabel='date', ylabel='confirmed'>"
      ]
     },
     "execution_count": 64,
     "metadata": {},
     "output_type": "execute_result"
    },
    {
     "data": {
      "image/png": "[encoded data removed]",
      "text/plain": [
       "<Figure size 432x288 with 1 Axes>"
      ]
     },
     "metadata": {
      "needs_background": "light"
     },
     "output_type": "display_data"
    }
   ],
   "source": [
    "cleaned_data.plot.scatter(x = \"date\", y=\"confirmed\")"
   ]
  },
  {
   "cell_type": "markdown",
   "metadata": {},
   "source": [
    "## Data normalization"
   ]
  },
  {
   "cell_type": "code",
   "execution_count": 65,
   "metadata": {},
   "outputs": [
    {
     "data": {
      "text/plain": [
       "<AxesSubplot:xlabel='date', ylabel='ln(confirmed)'>"
      ]
     },
     "execution_count": 65,
     "metadata": {},
     "output_type": "execute_result"
    },
    {
     "data": {
      "image/png": "[encoded data removed]",
      "text/plain": [
       "<Figure size 432x288 with 1 Axes>"
      ]
     },
     "metadata": {
      "needs_background": "light"
     },
     "output_type": "display_data"
    }
   ],
   "source": [
    "cleaned_data[\"ln(confirmed)\"] = np.log(cleaned_data[\"confirmed\"])\n",
    "cleaned_data.plot.scatter(x = \"date\", y=\"ln(confirmed)\")"
   ]
  },
  {
   "cell_type": "code",
   "execution_count": 68,
   "metadata": {},
   "outputs": [
    {
     "data": {
      "text/plain": [
       "<AxesSubplot:xlabel='date', ylabel='ln(confirmed)'>"
      ]
     },
     "execution_count": 68,
     "metadata": {},
     "output_type": "execute_result"
    },
    {
     "data": {
      "image/png": "[encoded data removed]",
      "text/plain": [
       "<Figure size 432x288 with 1 Axes>"
      ]
     },
     "metadata": {
      "needs_background": "light"
     },
     "output_type": "display_data"
    }
   ],
   "source": [
    "cleaned_data[cleaned_data['date'] > '2020-03-22'].plot.scatter(x = \"date\", y=\"ln(confirmed)\")"
   ]
  },
  {
   "cell_type": "markdown",
   "metadata": {},
   "source": [
    "## Defining Dataset"
   ]
  },
  {
   "cell_type": "code",
   "execution_count": 131,
   "metadata": {},
   "outputs": [],
   "source": [
    "dataset = cleaned_data[cleaned_data['date'] > '2020-03-22']"
   ]
  },
  {
   "cell_type": "markdown",
   "metadata": {},
   "source": [
    "## Transforming dates to int"
   ]
  },
  {
   "cell_type": "code",
   "execution_count": 132,
   "metadata": {},
   "outputs": [
    {
     "data": {
      "text/html": [
       "<div>\n",
       "<style scoped>\n",
       "    .dataframe tbody tr th:only-of-type {\n",
       "        vertical-align: middle;\n",
       "    }\n",
       "\n",
       "    .dataframe tbody tr th {\n",
       "        vertical-align: top;\n",
       "    }\n",
       "\n",
       "    .dataframe thead th {\n",
       "        text-align: right;\n",
       "    }\n",
       "</style>\n",
       "<table border=\"1\" class=\"dataframe\">\n",
       "  <thead>\n",
       "    <tr style=\"text-align: right;\">\n",
       "      <th></th>\n",
       "      <th>confirmed</th>\n",
       "      <th>date</th>\n",
       "      <th>ln(confirmed)</th>\n",
       "      <th>date_int</th>\n",
       "    </tr>\n",
       "  </thead>\n",
       "  <tbody>\n",
       "    <tr>\n",
       "      <th>0</th>\n",
       "      <td>20</td>\n",
       "      <td>2020-03-23</td>\n",
       "      <td>2.995732</td>\n",
       "      <td>0</td>\n",
       "    </tr>\n",
       "    <tr>\n",
       "      <th>1</th>\n",
       "      <td>21</td>\n",
       "      <td>2020-03-24</td>\n",
       "      <td>3.044522</td>\n",
       "      <td>1</td>\n",
       "    </tr>\n",
       "    <tr>\n",
       "      <th>2</th>\n",
       "      <td>24</td>\n",
       "      <td>2020-03-25</td>\n",
       "      <td>3.178054</td>\n",
       "      <td>2</td>\n",
       "    </tr>\n",
       "    <tr>\n",
       "      <th>3</th>\n",
       "      <td>25</td>\n",
       "      <td>2020-03-26</td>\n",
       "      <td>3.218876</td>\n",
       "      <td>3</td>\n",
       "    </tr>\n",
       "    <tr>\n",
       "      <th>4</th>\n",
       "      <td>28</td>\n",
       "      <td>2020-03-27</td>\n",
       "      <td>3.332205</td>\n",
       "      <td>4</td>\n",
       "    </tr>\n",
       "    <tr>\n",
       "      <th>...</th>\n",
       "      <td>...</td>\n",
       "      <td>...</td>\n",
       "      <td>...</td>\n",
       "      <td>...</td>\n",
       "    </tr>\n",
       "    <tr>\n",
       "      <th>65</th>\n",
       "      <td>4145</td>\n",
       "      <td>2020-05-27</td>\n",
       "      <td>8.329658</td>\n",
       "      <td>65</td>\n",
       "    </tr>\n",
       "    <tr>\n",
       "      <th>66</th>\n",
       "      <td>4348</td>\n",
       "      <td>2020-05-28</td>\n",
       "      <td>8.377471</td>\n",
       "      <td>66</td>\n",
       "    </tr>\n",
       "    <tr>\n",
       "      <th>67</th>\n",
       "      <td>4607</td>\n",
       "      <td>2020-05-29</td>\n",
       "      <td>8.435332</td>\n",
       "      <td>67</td>\n",
       "    </tr>\n",
       "    <tr>\n",
       "      <th>68</th>\n",
       "      <td>4739</td>\n",
       "      <td>2020-05-30</td>\n",
       "      <td>8.463581</td>\n",
       "      <td>68</td>\n",
       "    </tr>\n",
       "    <tr>\n",
       "      <th>69</th>\n",
       "      <td>5087</td>\n",
       "      <td>2020-05-31</td>\n",
       "      <td>8.534444</td>\n",
       "      <td>69</td>\n",
       "    </tr>\n",
       "  </tbody>\n",
       "</table>\n",
       "<p>70 rows × 4 columns</p>\n",
       "</div>"
      ],
      "text/plain": [
       "    confirmed       date  ln(confirmed)  date_int\n",
       "0          20 2020-03-23       2.995732         0\n",
       "1          21 2020-03-24       3.044522         1\n",
       "2          24 2020-03-25       3.178054         2\n",
       "3          25 2020-03-26       3.218876         3\n",
       "4          28 2020-03-27       3.332205         4\n",
       "..        ...        ...            ...       ...\n",
       "65       4145 2020-05-27       8.329658        65\n",
       "66       4348 2020-05-28       8.377471        66\n",
       "67       4607 2020-05-29       8.435332        67\n",
       "68       4739 2020-05-30       8.463581        68\n",
       "69       5087 2020-05-31       8.534444        69\n",
       "\n",
       "[70 rows x 4 columns]"
      ]
     },
     "execution_count": 132,
     "metadata": {},
     "output_type": "execute_result"
    }
   ],
   "source": [
    "dataset = dataset.reset_index(drop=True)\n",
    "dataset['date_int'] = dataset.index\n",
    "dataset"
   ]
  },
  {
   "cell_type": "code",
   "execution_count": 209,
   "metadata": {},
   "outputs": [],
   "source": [
    "x = np.array(dataset['date_int'])\n",
    "y = np.array(dataset['ln(confirmed)'])"
   ]
  },
  {
   "cell_type": "markdown",
   "metadata": {},
   "source": [
    "## Model"
   ]
  },
  {
   "cell_type": "code",
   "execution_count": 251,
   "metadata": {},
   "outputs": [],
   "source": [
    "class ModeloLineal:\n",
    "    def __init__(self):\n",
    "        tf.reset_default_graph()\n",
    "        self.W = tf.get_variable(\"W\", dtype=tf.float32, shape=[], initializer=tf.zeros_initializer())\n",
    "        self.b = tf.get_variable(\"b\", dtype=tf.float32, shape=[], initializer=tf.zeros_initializer())\n",
    "        self.w_out = 0\n",
    "        self.b_out = 0\n",
    "        \n",
    "\n",
    "    def predict(self, x):\n",
    "        return tf.add(tf.multiply(self.W, x), self.b)\n",
    "    \n",
    "    def predict_out(self, x):\n",
    "        return np.exp((x * self.w_out) + self.b_out)\n",
    "\n",
    "    def update(self, x, y, learning_rate):\n",
    "        prediction = self.predict(x)\n",
    "        error = .5 * tf.reduce_mean(tf.math.square(y - prediction))\n",
    "        gradient = tf.gradients(error, [self.W, self.b])\n",
    "        updatew = tf.assign(self.W, self.W - learning_rate * gradient[0] )\n",
    "        updateb = tf.assign(self.b, self.b - learning_rate * gradient[1] )\n",
    "        update_params = tf.group(updatew, updateb)\n",
    "        return update_params\n",
    "    \n",
    "    def mini_batches(self, x, y, batch_size):\n",
    "        for batch_iteration in range(int(len(x)/batch_size)):\n",
    "            init_batch = batch_iteration * batch_size\n",
    "            end_batch = init_batch + batch_size\n",
    "            yield np.array(x[init_batch:end_batch].reshape([-1,1])), np.array(y[init_batch:end_batch].reshape([-1,1]))\n",
    "            \n",
    "    def parse_config(self, config_string):\n",
    "        parameters = {}\n",
    "        for conf in config_string.split('_')[1:]:\n",
    "            parameters[conf.split('=')[0]] = conf.split('=')[1]\n",
    "        return parameters\n",
    "        \n",
    "    def train(self, x, y, conf_string):\n",
    "        config = self.parse_config(conf_string)\n",
    "        lr = float(config['lr'])\n",
    "        epochs = int(config['epochs'])\n",
    "        batch_size = int(config['batchsize'])\n",
    "        log_epoch = int(config['logepoch'])\n",
    "        \n",
    "        tensor_x = tf.placeholder(\"float\", name=\"tensor_x\")\n",
    "        tensor_y = tf.placeholder(\"float\", name=\"tensor_y\")\n",
    "        \n",
    "        prediction = self.predict(tensor_x)\n",
    "        update_params = self.update(tensor_x, tensor_y, lr)\n",
    "        error = .5 * tf.reduce_mean(tf.math.square(tensor_y - prediction))\n",
    "        error_sum = tf.summary.scalar(\"Error\", error)\n",
    "        init = tf.global_variables_initializer()\n",
    "        \n",
    "        with tf.Session() as session:\n",
    "            session.run(init)\n",
    "            for epoch in range(epochs):\n",
    "                for mini_x, mini_y in self.mini_batches(x, y, batch_size):\n",
    "                    feed_dict = {tensor_x: mini_x, tensor_y: mini_y}    \n",
    "                    session.run(update_params, feed_dict=feed_dict)\n",
    "                    predictions = session.run(prediction, feed_dict=feed_dict)\n",
    "                    \n",
    "                if (epoch % log_epoch == 0):\n",
    "                    w_value = session.run(self.W)\n",
    "                    b_value = session.run(self.b)\n",
    "                    error_value = session.run(error, feed_dict={tensor_x : x, tensor_y : y})\n",
    "                    print(f\"Epoch: {epoch}, W: {w_value}, b: {b_value}, error: {error_value}\")\n",
    "            \n",
    "                    self.w_out = w_value\n",
    "                    self.b_out = b_value"
   ]
  },
  {
   "cell_type": "code",
   "execution_count": 252,
   "metadata": {},
   "outputs": [],
   "source": [
    "modelo = ModeloLineal()"
   ]
  },
  {
   "cell_type": "code",
   "execution_count": 265,
   "metadata": {},
   "outputs": [
    {
     "name": "stdout",
     "output_type": "stream",
     "text": [
      "Epoch: 0, W: 0.23546245694160461, b: 0.007792560383677483, error: 7.3097429275512695\n",
      "Epoch: 2000, W: 0.092337965965271, b: 2.2374725341796875, error: 0.18780550360679626\n",
      "Epoch: 4000, W: 0.08287061750888824, b: 2.913455009460449, error: 0.03146586939692497\n",
      "Epoch: 6000, W: 0.0800040066242218, b: 3.118135929107666, error: 0.01541792880743742\n",
      "Epoch: 8000, W: 0.07913599163293839, b: 3.180111885070801, error: 0.013427560217678547\n",
      "Epoch: 10000, W: 0.07887320220470428, b: 3.198875665664673, error: 0.013087919913232327\n",
      "Epoch: 12000, W: 0.07879355549812317, b: 3.2045631408691406, error: 0.013009101152420044\n",
      "Epoch: 14000, W: 0.07876948267221451, b: 3.2062814235687256, error: 0.012987513095140457\n",
      "Epoch: 16000, W: 0.07876408845186234, b: 3.206666946411133, error: 0.012982800602912903\n",
      "Epoch: 18000, W: 0.07876408845186234, b: 3.206666946411133, error: 0.012982800602912903\n",
      "Epoch: 20000, W: 0.07876408845186234, b: 3.206666946411133, error: 0.012982800602912903\n",
      "Epoch: 22000, W: 0.07876408845186234, b: 3.206666946411133, error: 0.012982800602912903\n",
      "Epoch: 24000, W: 0.07876408845186234, b: 3.206666946411133, error: 0.012982800602912903\n",
      "Epoch: 26000, W: 0.07876408845186234, b: 3.206666946411133, error: 0.012982800602912903\n",
      "Epoch: 28000, W: 0.07876408845186234, b: 3.206666946411133, error: 0.012982800602912903\n"
     ]
    }
   ],
   "source": [
    "configuration_string = \"linearregression_epochs=30000_lr=0.001_batchsize=32_logepoch=2000\"    \n",
    "\n",
    "modelo.train(x, y, configuration_string)"
   ]
  },
  {
   "cell_type": "code",
   "execution_count": 271,
   "metadata": {},
   "outputs": [],
   "source": [
    "dataset['predictions'] = modelo.predict_out(x)"
   ]
  },
  {
   "cell_type": "markdown",
   "metadata": {},
   "source": [
    "## Real Data"
   ]
  },
  {
   "cell_type": "code",
   "execution_count": 272,
   "metadata": {},
   "outputs": [
    {
     "data": {
      "text/plain": [
       "<AxesSubplot:xlabel='date', ylabel='confirmed'>"
      ]
     },
     "execution_count": 272,
     "metadata": {},
     "output_type": "execute_result"
    },
    {
     "data": {
      "image/png": "[encoded data removed]",
      "text/plain": [
       "<Figure size 432x288 with 1 Axes>"
      ]
     },
     "metadata": {
      "needs_background": "light"
     },
     "output_type": "display_data"
    }
   ],
   "source": [
    "dataset.plot.scatter(x = \"date\", y=\"confirmed\")"
   ]
  },
  {
   "cell_type": "markdown",
   "metadata": {},
   "source": [
    "## Predicted Data"
   ]
  },
  {
   "cell_type": "code",
   "execution_count": 273,
   "metadata": {},
   "outputs": [
    {
     "data": {
      "text/plain": [
       "<AxesSubplot:xlabel='date', ylabel='predictions'>"
      ]
     },
     "execution_count": 273,
     "metadata": {},
     "output_type": "execute_result"
    },
    {
     "data": {
      "image/png": "[encoded data removed]",
      "text/plain": [
       "<Figure size 432x288 with 1 Axes>"
      ]
     },
     "metadata": {
      "needs_background": "light"
     },
     "output_type": "display_data"
    }
   ],
   "source": [
    "dataset.plot.scatter(x = \"date\", y=\"predictions\")"
   ]
  },
  {
   "cell_type": "code",
   "execution_count": null,
   "metadata": {},
   "outputs": [],
   "source": []
  }
 ],
 "metadata": {
  "kernelspec": {
   "display_name": "Python 3",
   "language": "python",
   "name": "python3"
  },
  "language_info": {
   "codemirror_mode": {
    "name": "ipython",
    "version": 3
   },
   "file_extension": ".py",
   "mimetype": "text/x-python",
   "name": "python",
   "nbconvert_exporter": "python",
   "pygments_lexer": "ipython3",
   "version": "3.8.5"
  }
 },
 "nbformat": 4,
 "nbformat_minor": 4
}
